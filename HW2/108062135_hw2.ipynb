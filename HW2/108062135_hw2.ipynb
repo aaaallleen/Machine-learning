{
 "cells": [
  {
   "cell_type": "markdown",
   "metadata": {
    "id": "yEtwmT5QNVLn"
   },
   "source": [
    "# **HW2: Decision Tree** \n",
    "In *assignment 2*, you need to:\n",
    "\n",
    "1.   Implement the decision tree in 3 steps (with the example data)\n",
    "\n",
    "\n",
    "*   Step 1: calculate the entropy\n",
    "*   Step 2: search for the best split\n",
    "*   Step 3: build the decision tree\n",
    "\n",
    "2.   Predict the patients' death (hospDIED) in the *MIMIC* dataset\n",
    "\n",
    "Please fill in your **studentID** here."
   ]
  },
  {
   "cell_type": "code",
   "execution_count": 369,
   "metadata": {
    "id": "F-ad78F1Ng-0"
   },
   "outputs": [],
   "source": [
    "STUDENT_ID = '108062135'"
   ]
  },
  {
   "cell_type": "markdown",
   "metadata": {
    "id": "s6lZtFwY4kjA"
   },
   "source": [
    "# **1. Implement the Decision Tree**\n",
    "In the first part, you need to implement the decision tree by completing the given funcitions.\n",
    "\n",
    "Also, you need to run those functions with given input variables and save the output to the implementation csv file **[STUDENT_ID]_implementation.csv**.\n",
    "\n",
    "Implement a binary decision tree to classify *Restaurant* dataset."
   ]
  },
  {
   "cell_type": "markdown",
   "metadata": {
    "id": "aFStwbIaNkrQ"
   },
   "source": [
    "## Import Packages\n",
    "\n",
    "Note: You **cannot** import any other packages in the first part (implementation)!"
   ]
  },
  {
   "cell_type": "code",
   "execution_count": 370,
   "metadata": {
    "id": "Gea2xBsNdQMC"
   },
   "outputs": [],
   "source": [
    "import numpy as np\n",
    "import pandas as pd\n",
    "import random"
   ]
  },
  {
   "cell_type": "markdown",
   "metadata": {
    "id": "QENWRdMMO3z_"
   },
   "source": [
    "## Load the Example Data\n",
    "First, load the *Restaurant waiting* dataset: **data.csv**"
   ]
  },
  {
   "cell_type": "code",
   "execution_count": 371,
   "metadata": {
    "colab": {
     "base_uri": "https://localhost:8080/",
     "height": 421
    },
    "id": "cMQ8mdm04rN0",
    "outputId": "79a641fc-a53f-474d-edd4-351ac32a3d4b"
   },
   "outputs": [
    {
     "data": {
      "text/html": [
       "<div>\n",
       "<style scoped>\n",
       "    .dataframe tbody tr th:only-of-type {\n",
       "        vertical-align: middle;\n",
       "    }\n",
       "\n",
       "    .dataframe tbody tr th {\n",
       "        vertical-align: top;\n",
       "    }\n",
       "\n",
       "    .dataframe thead th {\n",
       "        text-align: right;\n",
       "    }\n",
       "</style>\n",
       "<table border=\"1\" class=\"dataframe\">\n",
       "  <thead>\n",
       "    <tr style=\"text-align: right;\">\n",
       "      <th></th>\n",
       "      <th>Unnamed: 0</th>\n",
       "      <th>Alternate</th>\n",
       "      <th>Bar</th>\n",
       "      <th>Friday</th>\n",
       "      <th>Hungry</th>\n",
       "      <th>Patrons</th>\n",
       "      <th>Price</th>\n",
       "      <th>Raining</th>\n",
       "      <th>Reservation</th>\n",
       "      <th>Type</th>\n",
       "      <th>WaitEstimate</th>\n",
       "      <th>Wait</th>\n",
       "    </tr>\n",
       "  </thead>\n",
       "  <tbody>\n",
       "    <tr>\n",
       "      <th>0</th>\n",
       "      <td>X1</td>\n",
       "      <td>T</td>\n",
       "      <td>F</td>\n",
       "      <td>F</td>\n",
       "      <td>T</td>\n",
       "      <td>Some</td>\n",
       "      <td>High</td>\n",
       "      <td>F</td>\n",
       "      <td>T</td>\n",
       "      <td>French</td>\n",
       "      <td>8</td>\n",
       "      <td>T</td>\n",
       "    </tr>\n",
       "    <tr>\n",
       "      <th>1</th>\n",
       "      <td>X2</td>\n",
       "      <td>T</td>\n",
       "      <td>F</td>\n",
       "      <td>F</td>\n",
       "      <td>T</td>\n",
       "      <td>Full</td>\n",
       "      <td>Low</td>\n",
       "      <td>F</td>\n",
       "      <td>F</td>\n",
       "      <td>Thai</td>\n",
       "      <td>40</td>\n",
       "      <td>F</td>\n",
       "    </tr>\n",
       "    <tr>\n",
       "      <th>2</th>\n",
       "      <td>X3</td>\n",
       "      <td>F</td>\n",
       "      <td>T</td>\n",
       "      <td>F</td>\n",
       "      <td>F</td>\n",
       "      <td>Some</td>\n",
       "      <td>Low</td>\n",
       "      <td>F</td>\n",
       "      <td>F</td>\n",
       "      <td>Burger</td>\n",
       "      <td>8</td>\n",
       "      <td>T</td>\n",
       "    </tr>\n",
       "    <tr>\n",
       "      <th>3</th>\n",
       "      <td>X4</td>\n",
       "      <td>T</td>\n",
       "      <td>F</td>\n",
       "      <td>T</td>\n",
       "      <td>T</td>\n",
       "      <td>Full</td>\n",
       "      <td>Low</td>\n",
       "      <td>F</td>\n",
       "      <td>F</td>\n",
       "      <td>Thai</td>\n",
       "      <td>12</td>\n",
       "      <td>T</td>\n",
       "    </tr>\n",
       "    <tr>\n",
       "      <th>4</th>\n",
       "      <td>X5</td>\n",
       "      <td>T</td>\n",
       "      <td>F</td>\n",
       "      <td>T</td>\n",
       "      <td>F</td>\n",
       "      <td>Full</td>\n",
       "      <td>High</td>\n",
       "      <td>F</td>\n",
       "      <td>T</td>\n",
       "      <td>French</td>\n",
       "      <td>70</td>\n",
       "      <td>F</td>\n",
       "    </tr>\n",
       "    <tr>\n",
       "      <th>5</th>\n",
       "      <td>X6</td>\n",
       "      <td>F</td>\n",
       "      <td>T</td>\n",
       "      <td>F</td>\n",
       "      <td>T</td>\n",
       "      <td>Some</td>\n",
       "      <td>Medium</td>\n",
       "      <td>T</td>\n",
       "      <td>T</td>\n",
       "      <td>Italian</td>\n",
       "      <td>3</td>\n",
       "      <td>T</td>\n",
       "    </tr>\n",
       "    <tr>\n",
       "      <th>6</th>\n",
       "      <td>X7</td>\n",
       "      <td>F</td>\n",
       "      <td>T</td>\n",
       "      <td>F</td>\n",
       "      <td>F</td>\n",
       "      <td>None</td>\n",
       "      <td>Low</td>\n",
       "      <td>T</td>\n",
       "      <td>F</td>\n",
       "      <td>Burger</td>\n",
       "      <td>7</td>\n",
       "      <td>F</td>\n",
       "    </tr>\n",
       "    <tr>\n",
       "      <th>7</th>\n",
       "      <td>X8</td>\n",
       "      <td>F</td>\n",
       "      <td>F</td>\n",
       "      <td>F</td>\n",
       "      <td>T</td>\n",
       "      <td>Some</td>\n",
       "      <td>Medium</td>\n",
       "      <td>T</td>\n",
       "      <td>T</td>\n",
       "      <td>Thai</td>\n",
       "      <td>6</td>\n",
       "      <td>T</td>\n",
       "    </tr>\n",
       "    <tr>\n",
       "      <th>8</th>\n",
       "      <td>X9</td>\n",
       "      <td>F</td>\n",
       "      <td>T</td>\n",
       "      <td>T</td>\n",
       "      <td>F</td>\n",
       "      <td>Full</td>\n",
       "      <td>Low</td>\n",
       "      <td>T</td>\n",
       "      <td>F</td>\n",
       "      <td>Burger</td>\n",
       "      <td>80</td>\n",
       "      <td>F</td>\n",
       "    </tr>\n",
       "    <tr>\n",
       "      <th>9</th>\n",
       "      <td>X10</td>\n",
       "      <td>T</td>\n",
       "      <td>T</td>\n",
       "      <td>T</td>\n",
       "      <td>T</td>\n",
       "      <td>Full</td>\n",
       "      <td>High</td>\n",
       "      <td>F</td>\n",
       "      <td>T</td>\n",
       "      <td>Italian</td>\n",
       "      <td>20</td>\n",
       "      <td>F</td>\n",
       "    </tr>\n",
       "    <tr>\n",
       "      <th>10</th>\n",
       "      <td>X11</td>\n",
       "      <td>F</td>\n",
       "      <td>F</td>\n",
       "      <td>F</td>\n",
       "      <td>F</td>\n",
       "      <td>None</td>\n",
       "      <td>Low</td>\n",
       "      <td>F</td>\n",
       "      <td>F</td>\n",
       "      <td>Thai</td>\n",
       "      <td>8</td>\n",
       "      <td>F</td>\n",
       "    </tr>\n",
       "    <tr>\n",
       "      <th>11</th>\n",
       "      <td>X12</td>\n",
       "      <td>T</td>\n",
       "      <td>T</td>\n",
       "      <td>T</td>\n",
       "      <td>T</td>\n",
       "      <td>Full</td>\n",
       "      <td>Low</td>\n",
       "      <td>F</td>\n",
       "      <td>F</td>\n",
       "      <td>Burger</td>\n",
       "      <td>40</td>\n",
       "      <td>T</td>\n",
       "    </tr>\n",
       "  </tbody>\n",
       "</table>\n",
       "</div>"
      ],
      "text/plain": [
       "   Unnamed: 0 Alternate Bar Friday Hungry Patrons   Price Raining Reservation  \\\n",
       "0          X1         T   F      F      T    Some    High       F           T   \n",
       "1          X2         T   F      F      T    Full     Low       F           F   \n",
       "2          X3         F   T      F      F    Some     Low       F           F   \n",
       "3          X4         T   F      T      T    Full     Low       F           F   \n",
       "4          X5         T   F      T      F    Full    High       F           T   \n",
       "5          X6         F   T      F      T    Some  Medium       T           T   \n",
       "6          X7         F   T      F      F    None     Low       T           F   \n",
       "7          X8         F   F      F      T    Some  Medium       T           T   \n",
       "8          X9         F   T      T      F    Full     Low       T           F   \n",
       "9         X10         T   T      T      T    Full    High       F           T   \n",
       "10        X11         F   F      F      F    None     Low       F           F   \n",
       "11        X12         T   T      T      T    Full     Low       F           F   \n",
       "\n",
       "       Type  WaitEstimate Wait  \n",
       "0    French             8    T  \n",
       "1      Thai            40    F  \n",
       "2    Burger             8    T  \n",
       "3      Thai            12    T  \n",
       "4    French            70    F  \n",
       "5   Italian             3    T  \n",
       "6    Burger             7    F  \n",
       "7      Thai             6    T  \n",
       "8    Burger            80    F  \n",
       "9   Italian            20    F  \n",
       "10     Thai             8    F  \n",
       "11   Burger            40    T  "
      ]
     },
     "execution_count": 371,
     "metadata": {},
     "output_type": "execute_result"
    }
   ],
   "source": [
    "example = pd.read_csv('https://raw.githubusercontent.com/aubreyyy24/HW2_data/main/data.csv')\n",
    "example"
   ]
  },
  {
   "cell_type": "code",
   "execution_count": 372,
   "metadata": {
    "id": "3Kzf-VIW50wi"
   },
   "outputs": [],
   "source": [
    "example = example.drop(['Unnamed: 0'], axis=1)"
   ]
  },
  {
   "cell_type": "code",
   "execution_count": 373,
   "metadata": {
    "colab": {
     "base_uri": "https://localhost:8080/",
     "height": 421
    },
    "id": "2VZ0rIII1YEV",
    "outputId": "e30f2d11-875c-4288-ea58-f567981b695d"
   },
   "outputs": [
    {
     "data": {
      "text/html": [
       "<div>\n",
       "<style scoped>\n",
       "    .dataframe tbody tr th:only-of-type {\n",
       "        vertical-align: middle;\n",
       "    }\n",
       "\n",
       "    .dataframe tbody tr th {\n",
       "        vertical-align: top;\n",
       "    }\n",
       "\n",
       "    .dataframe thead th {\n",
       "        text-align: right;\n",
       "    }\n",
       "</style>\n",
       "<table border=\"1\" class=\"dataframe\">\n",
       "  <thead>\n",
       "    <tr style=\"text-align: right;\">\n",
       "      <th></th>\n",
       "      <th>Alternate</th>\n",
       "      <th>Bar</th>\n",
       "      <th>Friday</th>\n",
       "      <th>Hungry</th>\n",
       "      <th>Patrons</th>\n",
       "      <th>Price</th>\n",
       "      <th>Raining</th>\n",
       "      <th>Reservation</th>\n",
       "      <th>Type</th>\n",
       "      <th>WaitEstimate</th>\n",
       "      <th>Wait</th>\n",
       "    </tr>\n",
       "  </thead>\n",
       "  <tbody>\n",
       "    <tr>\n",
       "      <th>0</th>\n",
       "      <td>1</td>\n",
       "      <td>0</td>\n",
       "      <td>0</td>\n",
       "      <td>1</td>\n",
       "      <td>2</td>\n",
       "      <td>0</td>\n",
       "      <td>0</td>\n",
       "      <td>1</td>\n",
       "      <td>1</td>\n",
       "      <td>8</td>\n",
       "      <td>T</td>\n",
       "    </tr>\n",
       "    <tr>\n",
       "      <th>1</th>\n",
       "      <td>1</td>\n",
       "      <td>0</td>\n",
       "      <td>0</td>\n",
       "      <td>1</td>\n",
       "      <td>0</td>\n",
       "      <td>1</td>\n",
       "      <td>0</td>\n",
       "      <td>0</td>\n",
       "      <td>3</td>\n",
       "      <td>40</td>\n",
       "      <td>F</td>\n",
       "    </tr>\n",
       "    <tr>\n",
       "      <th>2</th>\n",
       "      <td>0</td>\n",
       "      <td>1</td>\n",
       "      <td>0</td>\n",
       "      <td>0</td>\n",
       "      <td>2</td>\n",
       "      <td>1</td>\n",
       "      <td>0</td>\n",
       "      <td>0</td>\n",
       "      <td>0</td>\n",
       "      <td>8</td>\n",
       "      <td>T</td>\n",
       "    </tr>\n",
       "    <tr>\n",
       "      <th>3</th>\n",
       "      <td>1</td>\n",
       "      <td>0</td>\n",
       "      <td>1</td>\n",
       "      <td>1</td>\n",
       "      <td>0</td>\n",
       "      <td>1</td>\n",
       "      <td>0</td>\n",
       "      <td>0</td>\n",
       "      <td>3</td>\n",
       "      <td>12</td>\n",
       "      <td>T</td>\n",
       "    </tr>\n",
       "    <tr>\n",
       "      <th>4</th>\n",
       "      <td>1</td>\n",
       "      <td>0</td>\n",
       "      <td>1</td>\n",
       "      <td>0</td>\n",
       "      <td>0</td>\n",
       "      <td>0</td>\n",
       "      <td>0</td>\n",
       "      <td>1</td>\n",
       "      <td>1</td>\n",
       "      <td>70</td>\n",
       "      <td>F</td>\n",
       "    </tr>\n",
       "    <tr>\n",
       "      <th>5</th>\n",
       "      <td>0</td>\n",
       "      <td>1</td>\n",
       "      <td>0</td>\n",
       "      <td>1</td>\n",
       "      <td>2</td>\n",
       "      <td>2</td>\n",
       "      <td>1</td>\n",
       "      <td>1</td>\n",
       "      <td>2</td>\n",
       "      <td>3</td>\n",
       "      <td>T</td>\n",
       "    </tr>\n",
       "    <tr>\n",
       "      <th>6</th>\n",
       "      <td>0</td>\n",
       "      <td>1</td>\n",
       "      <td>0</td>\n",
       "      <td>0</td>\n",
       "      <td>1</td>\n",
       "      <td>1</td>\n",
       "      <td>1</td>\n",
       "      <td>0</td>\n",
       "      <td>0</td>\n",
       "      <td>7</td>\n",
       "      <td>F</td>\n",
       "    </tr>\n",
       "    <tr>\n",
       "      <th>7</th>\n",
       "      <td>0</td>\n",
       "      <td>0</td>\n",
       "      <td>0</td>\n",
       "      <td>1</td>\n",
       "      <td>2</td>\n",
       "      <td>2</td>\n",
       "      <td>1</td>\n",
       "      <td>1</td>\n",
       "      <td>3</td>\n",
       "      <td>6</td>\n",
       "      <td>T</td>\n",
       "    </tr>\n",
       "    <tr>\n",
       "      <th>8</th>\n",
       "      <td>0</td>\n",
       "      <td>1</td>\n",
       "      <td>1</td>\n",
       "      <td>0</td>\n",
       "      <td>0</td>\n",
       "      <td>1</td>\n",
       "      <td>1</td>\n",
       "      <td>0</td>\n",
       "      <td>0</td>\n",
       "      <td>80</td>\n",
       "      <td>F</td>\n",
       "    </tr>\n",
       "    <tr>\n",
       "      <th>9</th>\n",
       "      <td>1</td>\n",
       "      <td>1</td>\n",
       "      <td>1</td>\n",
       "      <td>1</td>\n",
       "      <td>0</td>\n",
       "      <td>0</td>\n",
       "      <td>0</td>\n",
       "      <td>1</td>\n",
       "      <td>2</td>\n",
       "      <td>20</td>\n",
       "      <td>F</td>\n",
       "    </tr>\n",
       "    <tr>\n",
       "      <th>10</th>\n",
       "      <td>0</td>\n",
       "      <td>0</td>\n",
       "      <td>0</td>\n",
       "      <td>0</td>\n",
       "      <td>1</td>\n",
       "      <td>1</td>\n",
       "      <td>0</td>\n",
       "      <td>0</td>\n",
       "      <td>3</td>\n",
       "      <td>8</td>\n",
       "      <td>F</td>\n",
       "    </tr>\n",
       "    <tr>\n",
       "      <th>11</th>\n",
       "      <td>1</td>\n",
       "      <td>1</td>\n",
       "      <td>1</td>\n",
       "      <td>1</td>\n",
       "      <td>0</td>\n",
       "      <td>1</td>\n",
       "      <td>0</td>\n",
       "      <td>0</td>\n",
       "      <td>0</td>\n",
       "      <td>40</td>\n",
       "      <td>T</td>\n",
       "    </tr>\n",
       "  </tbody>\n",
       "</table>\n",
       "</div>"
      ],
      "text/plain": [
       "    Alternate  Bar  Friday  Hungry  Patrons  Price  Raining  Reservation  \\\n",
       "0           1    0       0       1        2      0        0            1   \n",
       "1           1    0       0       1        0      1        0            0   \n",
       "2           0    1       0       0        2      1        0            0   \n",
       "3           1    0       1       1        0      1        0            0   \n",
       "4           1    0       1       0        0      0        0            1   \n",
       "5           0    1       0       1        2      2        1            1   \n",
       "6           0    1       0       0        1      1        1            0   \n",
       "7           0    0       0       1        2      2        1            1   \n",
       "8           0    1       1       0        0      1        1            0   \n",
       "9           1    1       1       1        0      0        0            1   \n",
       "10          0    0       0       0        1      1        0            0   \n",
       "11          1    1       1       1        0      1        0            0   \n",
       "\n",
       "    Type  WaitEstimate Wait  \n",
       "0      1             8    T  \n",
       "1      3            40    F  \n",
       "2      0             8    T  \n",
       "3      3            12    T  \n",
       "4      1            70    F  \n",
       "5      2             3    T  \n",
       "6      0             7    F  \n",
       "7      3             6    T  \n",
       "8      0            80    F  \n",
       "9      2            20    F  \n",
       "10     3             8    F  \n",
       "11     0            40    T  "
      ]
     },
     "execution_count": 373,
     "metadata": {},
     "output_type": "execute_result"
    }
   ],
   "source": [
    "# change the string categorical to integer labels\n",
    "from sklearn.preprocessing import LabelEncoder\n",
    "labelencoder = LabelEncoder()\n",
    "\n",
    "example['Alternate'] = labelencoder.fit_transform(example['Alternate'])\n",
    "example['Bar'] = labelencoder.fit_transform(example['Bar'])\n",
    "example['Friday'] = labelencoder.fit_transform(example['Friday'])\n",
    "example['Hungry'] = labelencoder.fit_transform(example['Hungry'])\n",
    "example['Patrons'] = labelencoder.fit_transform(example['Patrons'])\n",
    "example['Price'] = labelencoder.fit_transform(example['Price'])\n",
    "example['Raining'] = labelencoder.fit_transform(example['Raining'])\n",
    "example['Reservation'] = labelencoder.fit_transform(example['Reservation'])\n",
    "example['Type'] = labelencoder.fit_transform(example['Type'])\n",
    "\n",
    "example"
   ]
  },
  {
   "cell_type": "markdown",
   "metadata": {
    "id": "v3c8J0ABQ7v0"
   },
   "source": [
    "## Calculating the Entropy *(20%)*\n"
   ]
  },
  {
   "cell_type": "code",
   "execution_count": 374,
   "metadata": {
    "id": "WyGQn_XJnyoc"
   },
   "outputs": [],
   "source": [
    "# split the data by given attribute and its threshold\n",
    "def partition(data, column, threshold):\n",
    "  \"\"\"\n",
    "  The *partition* function will split the input data into 2 branches.\n",
    "    args:\n",
    "    *   data(DataFrame): the input data\n",
    "    *   column(str): the attribute(column name)\n",
    "    *   threshold(float): the column's threshold for splitting the data\n",
    "    returns:\n",
    "    *   match_branch(DataFrame): the divided data that matches the assigned column's threshold\n",
    "    *   false_branch(DataFrame): the divided data that doesn't match the assigned column's threshold\n",
    "  \"\"\"\n",
    "  match_branch = data[data[column] <= threshold]\n",
    "  false_branch = data[data[column] > threshold]\n",
    "  return match_branch, false_branch"
   ]
  },
  {
   "cell_type": "markdown",
   "metadata": {
    "id": "bEzlw4y5AK-7"
   },
   "source": [
    "If we try *partition(example, 'Patrons', 1.5)*:\n",
    "\n",
    "split example to \n",
    "\n",
    "match_left(Patrons<= 1.5) (Patrons != Some) and  \n",
    "false_right(Patrons > 1.5) (Patrons == Some)\n",
    "\n",
    "column: Patrons, threshold: 1.5\n",
    "\n"
   ]
  },
  {
   "cell_type": "code",
   "execution_count": 375,
   "metadata": {
    "colab": {
     "base_uri": "https://localhost:8080/",
     "height": 238
    },
    "id": "h-5MqfHcJ2Id",
    "outputId": "c6425c87-a935-4f55-8510-90dc05769987"
   },
   "outputs": [
    {
     "name": "stdout",
     "output_type": "stream",
     "text": [
      "(8, 11)\n",
      "(4, 11)\n"
     ]
    },
    {
     "data": {
      "text/html": [
       "<div>\n",
       "<style scoped>\n",
       "    .dataframe tbody tr th:only-of-type {\n",
       "        vertical-align: middle;\n",
       "    }\n",
       "\n",
       "    .dataframe tbody tr th {\n",
       "        vertical-align: top;\n",
       "    }\n",
       "\n",
       "    .dataframe thead th {\n",
       "        text-align: right;\n",
       "    }\n",
       "</style>\n",
       "<table border=\"1\" class=\"dataframe\">\n",
       "  <thead>\n",
       "    <tr style=\"text-align: right;\">\n",
       "      <th></th>\n",
       "      <th>Alternate</th>\n",
       "      <th>Bar</th>\n",
       "      <th>Friday</th>\n",
       "      <th>Hungry</th>\n",
       "      <th>Patrons</th>\n",
       "      <th>Price</th>\n",
       "      <th>Raining</th>\n",
       "      <th>Reservation</th>\n",
       "      <th>Type</th>\n",
       "      <th>WaitEstimate</th>\n",
       "      <th>Wait</th>\n",
       "    </tr>\n",
       "  </thead>\n",
       "  <tbody>\n",
       "    <tr>\n",
       "      <th>1</th>\n",
       "      <td>1</td>\n",
       "      <td>0</td>\n",
       "      <td>0</td>\n",
       "      <td>1</td>\n",
       "      <td>0</td>\n",
       "      <td>1</td>\n",
       "      <td>0</td>\n",
       "      <td>0</td>\n",
       "      <td>3</td>\n",
       "      <td>40</td>\n",
       "      <td>F</td>\n",
       "    </tr>\n",
       "    <tr>\n",
       "      <th>3</th>\n",
       "      <td>1</td>\n",
       "      <td>0</td>\n",
       "      <td>1</td>\n",
       "      <td>1</td>\n",
       "      <td>0</td>\n",
       "      <td>1</td>\n",
       "      <td>0</td>\n",
       "      <td>0</td>\n",
       "      <td>3</td>\n",
       "      <td>12</td>\n",
       "      <td>T</td>\n",
       "    </tr>\n",
       "    <tr>\n",
       "      <th>4</th>\n",
       "      <td>1</td>\n",
       "      <td>0</td>\n",
       "      <td>1</td>\n",
       "      <td>0</td>\n",
       "      <td>0</td>\n",
       "      <td>0</td>\n",
       "      <td>0</td>\n",
       "      <td>1</td>\n",
       "      <td>1</td>\n",
       "      <td>70</td>\n",
       "      <td>F</td>\n",
       "    </tr>\n",
       "    <tr>\n",
       "      <th>6</th>\n",
       "      <td>0</td>\n",
       "      <td>1</td>\n",
       "      <td>0</td>\n",
       "      <td>0</td>\n",
       "      <td>1</td>\n",
       "      <td>1</td>\n",
       "      <td>1</td>\n",
       "      <td>0</td>\n",
       "      <td>0</td>\n",
       "      <td>7</td>\n",
       "      <td>F</td>\n",
       "    </tr>\n",
       "    <tr>\n",
       "      <th>8</th>\n",
       "      <td>0</td>\n",
       "      <td>1</td>\n",
       "      <td>1</td>\n",
       "      <td>0</td>\n",
       "      <td>0</td>\n",
       "      <td>1</td>\n",
       "      <td>1</td>\n",
       "      <td>0</td>\n",
       "      <td>0</td>\n",
       "      <td>80</td>\n",
       "      <td>F</td>\n",
       "    </tr>\n",
       "  </tbody>\n",
       "</table>\n",
       "</div>"
      ],
      "text/plain": [
       "   Alternate  Bar  Friday  Hungry  Patrons  Price  Raining  Reservation  Type  \\\n",
       "1          1    0       0       1        0      1        0            0     3   \n",
       "3          1    0       1       1        0      1        0            0     3   \n",
       "4          1    0       1       0        0      0        0            1     1   \n",
       "6          0    1       0       0        1      1        1            0     0   \n",
       "8          0    1       1       0        0      1        1            0     0   \n",
       "\n",
       "   WaitEstimate Wait  \n",
       "1            40    F  \n",
       "3            12    T  \n",
       "4            70    F  \n",
       "6             7    F  \n",
       "8            80    F  "
      ]
     },
     "execution_count": 375,
     "metadata": {},
     "output_type": "execute_result"
    }
   ],
   "source": [
    "match_left, false_right = partition(example, 'Patrons', 1.5)\n",
    "print(match_left.shape)\n",
    "print(false_right.shape)\n",
    "match_left.head()"
   ]
  },
  {
   "cell_type": "code",
   "execution_count": 376,
   "metadata": {
    "id": "svjMYA_6VmoN"
   },
   "outputs": [],
   "source": [
    "def entropy(data):\n",
    "  \"\"\"\n",
    "  The *entropy* function will calculate the entropy of the node(data)\n",
    "  args:\n",
    "  *    data(DataFrame): the data you're calculating for the entropy\n",
    "  output:\n",
    "  *    entropy(float): the node(data)'s entropy     \n",
    "  \"\"\"\n",
    "  if len(data) == 0:\n",
    "    return 69\n",
    "  yes = 0\n",
    "  no = 0\n",
    "  for i in data['Wait']:\n",
    "    if i == 'T':\n",
    "      yes +=1\n",
    "    else:\n",
    "      no +=1\n",
    "  p = float(yes/len(data))\n",
    "  if(p == 0 or p == 1):\n",
    "    entropy = 0\n",
    "  else:\n",
    "    entropy = -p*np.log2(p)-(1-p)*np.log2(1-p)\n",
    "  return entropy"
   ]
  },
  {
   "cell_type": "markdown",
   "metadata": {
    "id": "yBvTDwJwfVY7"
   },
   "source": [
    "An example of the output from entropy (Use this to check if your output is correct): "
   ]
  },
  {
   "cell_type": "code",
   "execution_count": 377,
   "metadata": {
    "colab": {
     "base_uri": "https://localhost:8080/"
    },
    "id": "N_5y1Bz3lx2g",
    "outputId": "9a36d742-be7e-4d7f-adcc-4268f6a0a217"
   },
   "outputs": [
    {
     "name": "stdout",
     "output_type": "stream",
     "text": [
      "0.7219280948873623\n"
     ]
    }
   ],
   "source": [
    "match, false = partition(example, 'Hungry', 0.5)\n",
    "match\n",
    "entropy1 = entropy(match)\n",
    "print(entropy1)"
   ]
  },
  {
   "cell_type": "code",
   "execution_count": 378,
   "metadata": {
    "id": "69Vj7RELq7eF"
   },
   "outputs": [],
   "source": [
    "#implementation 1: calculate the entropy of 'false_right' data\n",
    "ans_entropy = entropy(false)"
   ]
  },
  {
   "cell_type": "markdown",
   "metadata": {
    "id": "mR4wP6nOVOUE"
   },
   "source": [
    "## Find the Best Split *(20%)*"
   ]
  },
  {
   "cell_type": "code",
   "execution_count": 386,
   "metadata": {
    "id": "PVcFND4BG4Zx"
   },
   "outputs": [],
   "source": [
    "# search for the best attribute and the value(threshold) to split the data\n",
    "def findBestSplit(data):\n",
    "    \"\"\"\n",
    "    The *findBestSplit* function finds the best combination of attribute and value(with the largest reduction in entropy) to split the data.\n",
    "    args:\n",
    "    *   data(DataFrame): the data you try to split(build the decision tree)\n",
    "    output:\n",
    "    *   column_best(str): the attribute(column) split with the largest reduction in entropy\n",
    "    *   value_best(float): the value(threshold) of the column_best attribute to split the data\n",
    "    \"\"\"\n",
    "    all_entropy = 9999        #the overall entropy : save the value of the smallest entropy\n",
    "    column_best = 0\n",
    "    value_best = 0\n",
    "    for i in data:\n",
    "      if i == 'Wait':\n",
    "        continue\n",
    "      for j in data[i].sort_values().unique():\n",
    "        match, false = partition(data, i, float(j+0.5))\n",
    "        entropy_total = float((len(match)/len(data))*entropy(match)+(len(false)/len(data))*entropy(false))  \n",
    "        if entropy_total < all_entropy:\n",
    "            column_best = i;\n",
    "            value_best = j+0.5\n",
    "            all_entropy = entropy_total\n",
    "    return column_best, value_best\n",
    "  "
   ]
  },
  {
   "cell_type": "markdown",
   "metadata": {
    "id": "H73vwEBPfB67"
   },
   "source": [
    "An example of the output from findBestSplit (Use this to check if your output is correct):"
   ]
  },
  {
   "cell_type": "code",
   "execution_count": 387,
   "metadata": {
    "colab": {
     "base_uri": "https://localhost:8080/"
    },
    "id": "2y9_0MwR9IgH",
    "outputId": "fd2dcad8-01a1-47ee-aecf-b0da34b46541",
    "scrolled": true
   },
   "outputs": [
    {
     "name": "stdout",
     "output_type": "stream",
     "text": [
      "Patrons\n",
      "1.5\n"
     ]
    }
   ],
   "source": [
    "column_best, value_best = findBestSplit(match)\n",
    "print(column_best)\n",
    "print(value_best)"
   ]
  },
  {
   "cell_type": "code",
   "execution_count": 388,
   "metadata": {
    "id": "NNcKR6tf12hn"
   },
   "outputs": [],
   "source": [
    "#implementation 2: Find the best split of the 'match' data\n",
    "ans_column, ans_value = findBestSplit(false)"
   ]
  },
  {
   "cell_type": "markdown",
   "metadata": {
    "id": "hD31mGJuVbAx"
   },
   "source": [
    "## Decision Tree Building *(30%)*\n",
    "\n",
    "Use the above functions to help building the decision tree\n",
    "\n",
    "\n",
    "\n"
   ]
  },
  {
   "cell_type": "code",
   "execution_count": 389,
   "metadata": {
    "id": "1PHuRhmoIdnV"
   },
   "outputs": [],
   "source": [
    "def buildTree(data, depth):\n",
    "  \"\"\"\n",
    "  The *buildTree* function builds the decision tree\n",
    "  args:\n",
    "  *     df(DataFrame): the data you want to apply the decision tree\n",
    "  *     depth(int) : the depth of your tree\n",
    "  output:\n",
    "  *     decisionSubTree(dict): the decision tree structure including root, branch, leaf(with the attributes and thresholds)\n",
    "  *     features(list): the features(attributes) name in the decision tree structure(from root to branch and leaf)\n",
    "  *     thresholds(list): the corresponding thresholds for the features in the 'features' list\n",
    "  \"\"\"\n",
    "  features = []\n",
    "  thresholds = []\n",
    "  column_best, value_best = findBestSplit(data)\n",
    "  features.append(column_best)\n",
    "  thresholds.append(value_best)\n",
    "    \n",
    "  numT = 0\n",
    "  numN = 0\n",
    "  for idx, row in data.iterrows():\n",
    "    if row['Wait'] == 'T':\n",
    "      numT += 1\n",
    "    else:\n",
    "      numN += 1\n",
    "  if numT == data.shape[0]:\n",
    "    return 'T', [], []\n",
    "  if numN == data.shape[0]:\n",
    "    return 'F', [], []\n",
    "  if(depth == 1):\n",
    "    if numT > numN:\n",
    "      return 'T', [],[]\n",
    "    else:\n",
    "      return 'F', [],[]\n",
    "    \n",
    "  match_left ,false_right = partition(data, column_best, value_best)\n",
    "  ltree, lfeatures, lthresholds = buildTree(match_left, depth-1)\n",
    "  rtree, rfeatures, rthresholds = buildTree(false_right, depth-1)\n",
    "  features = features + lfeatures + rfeatures\n",
    "  thresholds = thresholds + lthresholds + rthresholds\n",
    "  decisionSubTree = [column_best, value_best, ltree, rtree]\n",
    "  return decisionSubTree, features, thresholds\n",
    "  \n",
    "  "
   ]
  },
  {
   "cell_type": "markdown",
   "metadata": {
    "id": "RlmycuRYeo4E"
   },
   "source": [
    "An example of the output from buildTree (Use this to check if your output is correct): "
   ]
  },
  {
   "cell_type": "code",
   "execution_count": 390,
   "metadata": {
    "colab": {
     "base_uri": "https://localhost:8080/"
    },
    "id": "HwaWdJ2KaFnz",
    "outputId": "f1206915-1bf7-41f3-c904-d1dd91975721",
    "scrolled": true
   },
   "outputs": [
    {
     "name": "stdout",
     "output_type": "stream",
     "text": [
      "['Patrons', 1.5, 'F', 'T']\n",
      "['Patrons']\n",
      "[1.5]\n"
     ]
    }
   ],
   "source": [
    "tree, features, thresholds= buildTree(example, 2)\n",
    "print(tree)\n",
    "print(features)\n",
    "print(thresholds)"
   ]
  },
  {
   "cell_type": "code",
   "execution_count": 391,
   "metadata": {
    "id": "S7LcV0jwrvGW",
    "scrolled": true
   },
   "outputs": [
    {
     "name": "stdout",
     "output_type": "stream",
     "text": [
      "['Patrons', 1.5, ['Hungry', 0.5, 'F', ['Friday', 0.5, 'F', ['Price', 0.5, 'F', 'T']]], 'T']\n",
      "['Patrons', 'Hungry', 'Friday', 'Price']\n",
      "[1.5, 0.5, 0.5, 0.5]\n"
     ]
    }
   ],
   "source": [
    "#implementation 3: decision tree building (depth=10)\n",
    "ans_tree, ans_features, ans_thresholds = buildTree(example,10)\n",
    "print(ans_tree)\n",
    "print(ans_features)\n",
    "print(ans_thresholds)"
   ]
  },
  {
   "cell_type": "code",
   "execution_count": 392,
   "metadata": {
    "id": "oz_UrVDQr0ZO"
   },
   "outputs": [
    {
     "name": "stdout",
     "output_type": "stream",
     "text": [
      "[0.863120568566631, 'WaitEstimate', 12.5, 'Patrons', 'Hungry', 'Friday', 'Price', 1.5, 0.5, 0.5, 0.5]\n"
     ]
    }
   ],
   "source": [
    "#save implementation csv\n",
    "ans_path = STUDENT_ID + '_implementation.csv'\n",
    "\n",
    "imp = []\n",
    "imp.append(ans_entropy)\n",
    "imp.append(ans_column)\n",
    "imp.append(ans_value)\n",
    "for i in range(len(ans_features)):\n",
    "  imp.append(ans_features[i])\n",
    "for m in range(len(ans_thresholds)):\n",
    "  imp.append(ans_thresholds[m])\n",
    "print(imp)\n",
    "pd.DataFrame(imp).to_csv(ans_path, header = None, index = None)"
   ]
  },
  {
   "cell_type": "markdown",
   "metadata": {
    "id": "tniHsNdk6vH5"
   },
   "source": [
    "# **2. Classification with the MIMIC Dataset**\n",
    "In the second part, you need to classify **'hospDIED'(death)** in the MIMIC dataset.\n",
    "\n",
    "Please put the classification result in a csv file. (**[STUDENTID]_prediction.csv**)\n",
    "\n",
    "**Note:** Decision tree is recommended but not mandatory."
   ]
  },
  {
   "cell_type": "markdown",
   "metadata": {
    "id": "yr3B7qWCW6mX"
   },
   "source": [
    "## Prediction (Performance) *(20%)*\n",
    "\n",
    "The **y_test** (hospDIED) of this data is hidden, you need to use the x_test.csv to predict the y_test.\n",
    "\n",
    "**Note:** You **can** now import the packages you need here!"
   ]
  },
  {
   "cell_type": "markdown",
   "metadata": {
    "id": "luEGVyG44_Xe"
   },
   "source": [
    "Get the MIMIC data here!\n",
    "\n",
    "Data Description: \n",
    "\n",
    "[Data Description](https://docs.google.com/spreadsheets/d/1pxqxQFhIcv_hrgWEtwhXE6zBVQ5ISa-13PIhvXMtWCY/edit?usp=sharing) (You can find the data description here.)\n",
    "\n",
    "**Note:**\n",
    "*   You can select the features you want to use.\n",
    "*   You can use any ML models to predict the y_test.\n",
    "\n",
    "  (However, there is a 10% bonus if you **visualize** the decision tree in this part)\n",
    "\n",
    "\n",
    "[ref]: *Johnson, A. E. W., Pollard, T. J., Shen, L., Lehman, L. H., Feng, M., Ghassemi, M., Moody, B., Szolovits, P., Celi, L. A., & Mark, R. G. (2016). MIMIC-III, a freely accessible critical care database. Scientific Data, 3, 160035.*\n"
   ]
  },
  {
   "cell_type": "code",
   "execution_count": 393,
   "metadata": {},
   "outputs": [],
   "source": [
    "import matplotlib.pyplot as plt \n",
    "from sklearn.tree import DecisionTreeClassifier \n",
    "from sklearn.tree import plot_tree\n",
    "from sklearn.metrics import confusion_matrix\n",
    "from sklearn.metrics import plot_confusion_matrix\n",
    "from sklearn.model_selection import cross_val_score\n",
    "from sklearn.metrics import f1_score"
   ]
  },
  {
   "cell_type": "code",
   "execution_count": 394,
   "metadata": {
    "colab": {
     "base_uri": "https://localhost:8080/",
     "height": 270
    },
    "id": "COe36S4wc-_x",
    "outputId": "2e07ee1f-9dc7-412e-9dd8-de36369b601d",
    "scrolled": true
   },
   "outputs": [
    {
     "data": {
      "text/html": [
       "<div>\n",
       "<style scoped>\n",
       "    .dataframe tbody tr th:only-of-type {\n",
       "        vertical-align: middle;\n",
       "    }\n",
       "\n",
       "    .dataframe tbody tr th {\n",
       "        vertical-align: top;\n",
       "    }\n",
       "\n",
       "    .dataframe thead th {\n",
       "        text-align: right;\n",
       "    }\n",
       "</style>\n",
       "<table border=\"1\" class=\"dataframe\">\n",
       "  <thead>\n",
       "    <tr style=\"text-align: right;\">\n",
       "      <th></th>\n",
       "      <th>age</th>\n",
       "      <th>los</th>\n",
       "      <th>CA</th>\n",
       "      <th>DNR</th>\n",
       "      <th>CMO</th>\n",
       "      <th>DNI</th>\n",
       "      <th>female</th>\n",
       "      <th>first_careunit</th>\n",
       "      <th>insurance</th>\n",
       "      <th>ethnicity</th>\n",
       "      <th>...</th>\n",
       "      <th>Enlarged Cardiomediastinum</th>\n",
       "      <th>Fracture</th>\n",
       "      <th>Lung Lesion</th>\n",
       "      <th>Lung Opacity</th>\n",
       "      <th>No Finding</th>\n",
       "      <th>Pleural Effusion</th>\n",
       "      <th>Pleural Other</th>\n",
       "      <th>Pneumonia</th>\n",
       "      <th>Pneumothorax</th>\n",
       "      <th>Support Devices</th>\n",
       "    </tr>\n",
       "  </thead>\n",
       "  <tbody>\n",
       "    <tr>\n",
       "      <th>0</th>\n",
       "      <td>48</td>\n",
       "      <td>1.826250</td>\n",
       "      <td>0</td>\n",
       "      <td>0</td>\n",
       "      <td>0</td>\n",
       "      <td>0</td>\n",
       "      <td>1</td>\n",
       "      <td>10</td>\n",
       "      <td>1</td>\n",
       "      <td>6</td>\n",
       "      <td>...</td>\n",
       "      <td>2</td>\n",
       "      <td>9</td>\n",
       "      <td>9</td>\n",
       "      <td>9</td>\n",
       "      <td>9</td>\n",
       "      <td>0</td>\n",
       "      <td>9</td>\n",
       "      <td>9</td>\n",
       "      <td>0</td>\n",
       "      <td>9</td>\n",
       "    </tr>\n",
       "    <tr>\n",
       "      <th>1</th>\n",
       "      <td>59</td>\n",
       "      <td>10.581123</td>\n",
       "      <td>0</td>\n",
       "      <td>0</td>\n",
       "      <td>0</td>\n",
       "      <td>0</td>\n",
       "      <td>1</td>\n",
       "      <td>10</td>\n",
       "      <td>1</td>\n",
       "      <td>4</td>\n",
       "      <td>...</td>\n",
       "      <td>4</td>\n",
       "      <td>4</td>\n",
       "      <td>4</td>\n",
       "      <td>4</td>\n",
       "      <td>4</td>\n",
       "      <td>4</td>\n",
       "      <td>4</td>\n",
       "      <td>4</td>\n",
       "      <td>4</td>\n",
       "      <td>4</td>\n",
       "    </tr>\n",
       "    <tr>\n",
       "      <th>2</th>\n",
       "      <td>73</td>\n",
       "      <td>2.065255</td>\n",
       "      <td>0</td>\n",
       "      <td>0</td>\n",
       "      <td>0</td>\n",
       "      <td>0</td>\n",
       "      <td>1</td>\n",
       "      <td>4</td>\n",
       "      <td>1</td>\n",
       "      <td>4</td>\n",
       "      <td>...</td>\n",
       "      <td>4</td>\n",
       "      <td>4</td>\n",
       "      <td>4</td>\n",
       "      <td>4</td>\n",
       "      <td>4</td>\n",
       "      <td>4</td>\n",
       "      <td>4</td>\n",
       "      <td>4</td>\n",
       "      <td>4</td>\n",
       "      <td>4</td>\n",
       "    </tr>\n",
       "    <tr>\n",
       "      <th>3</th>\n",
       "      <td>84</td>\n",
       "      <td>1.435428</td>\n",
       "      <td>0</td>\n",
       "      <td>0</td>\n",
       "      <td>0</td>\n",
       "      <td>0</td>\n",
       "      <td>1</td>\n",
       "      <td>10</td>\n",
       "      <td>3</td>\n",
       "      <td>4</td>\n",
       "      <td>...</td>\n",
       "      <td>0</td>\n",
       "      <td>9</td>\n",
       "      <td>9</td>\n",
       "      <td>0</td>\n",
       "      <td>9</td>\n",
       "      <td>0</td>\n",
       "      <td>9</td>\n",
       "      <td>1</td>\n",
       "      <td>9</td>\n",
       "      <td>9</td>\n",
       "    </tr>\n",
       "    <tr>\n",
       "      <th>4</th>\n",
       "      <td>66</td>\n",
       "      <td>1.443414</td>\n",
       "      <td>0</td>\n",
       "      <td>0</td>\n",
       "      <td>0</td>\n",
       "      <td>0</td>\n",
       "      <td>0</td>\n",
       "      <td>1</td>\n",
       "      <td>1</td>\n",
       "      <td>4</td>\n",
       "      <td>...</td>\n",
       "      <td>4</td>\n",
       "      <td>4</td>\n",
       "      <td>4</td>\n",
       "      <td>4</td>\n",
       "      <td>4</td>\n",
       "      <td>4</td>\n",
       "      <td>4</td>\n",
       "      <td>4</td>\n",
       "      <td>4</td>\n",
       "      <td>4</td>\n",
       "    </tr>\n",
       "  </tbody>\n",
       "</table>\n",
       "<p>5 rows × 82 columns</p>\n",
       "</div>"
      ],
      "text/plain": [
       "   age        los  CA  DNR  CMO  DNI  female  first_careunit  insurance  \\\n",
       "0   48   1.826250   0    0    0    0       1              10          1   \n",
       "1   59  10.581123   0    0    0    0       1              10          1   \n",
       "2   73   2.065255   0    0    0    0       1               4          1   \n",
       "3   84   1.435428   0    0    0    0       1              10          3   \n",
       "4   66   1.443414   0    0    0    0       0               1          1   \n",
       "\n",
       "   ethnicity  ...  Enlarged Cardiomediastinum  Fracture  Lung Lesion  \\\n",
       "0          6  ...                           2         9            9   \n",
       "1          4  ...                           4         4            4   \n",
       "2          4  ...                           4         4            4   \n",
       "3          4  ...                           0         9            9   \n",
       "4          4  ...                           4         4            4   \n",
       "\n",
       "   Lung Opacity  No Finding  Pleural Effusion  Pleural Other  Pneumonia  \\\n",
       "0             9           9                 0              9          9   \n",
       "1             4           4                 4              4          4   \n",
       "2             4           4                 4              4          4   \n",
       "3             0           9                 0              9          1   \n",
       "4             4           4                 4              4          4   \n",
       "\n",
       "   Pneumothorax  Support Devices  \n",
       "0             0                9  \n",
       "1             4                4  \n",
       "2             4                4  \n",
       "3             9                9  \n",
       "4             4                4  \n",
       "\n",
       "[5 rows x 82 columns]"
      ]
     },
     "execution_count": 394,
     "metadata": {},
     "output_type": "execute_result"
    }
   ],
   "source": [
    "#Read data\n",
    "x_train = pd.read_csv('https://raw.githubusercontent.com/aubreyyy24/HW2_data/main/x_train.csv')\n",
    "y_train = pd.read_csv('https://raw.githubusercontent.com/aubreyyy24/HW2_data/main/y_train.csv')\n",
    "x_train = x_train.drop(['subject_id', 'indextime'], axis = 1)\n",
    "x_train.head()"
   ]
  },
  {
   "cell_type": "markdown",
   "metadata": {
    "id": "N2nP69qKhFsB"
   },
   "source": [
    "Complete your model with validation:"
   ]
  },
  {
   "cell_type": "code",
   "execution_count": 65,
   "metadata": {
    "id": "nUcloPGehlTp"
   },
   "outputs": [],
   "source": [
    "#Split the data into training and validation sets\n",
    "#Build you model and evaluate it on your validation set\n",
    "train_dataX = x_train.sample(frac = 0.8, random_state=1)\n",
    "train_dataY= y_train.sample(frac = 0.8, random_state=1)\n",
    "valid_dataX = x_train.drop(train_dataX.index)\n",
    "valid_dataY = y_train.drop(train_dataY.index)\n",
    "tree_model = DecisionTreeClassifier(random_state = 42)\n",
    "tree_model = tree_model.fit(train_dataX, train_dataY)"
   ]
  },
  {
   "cell_type": "markdown",
   "metadata": {
    "id": "V6MagTAmhURi"
   },
   "source": [
    "Make the final prediction from your model:"
   ]
  },
  {
   "cell_type": "code",
   "execution_count": 66,
   "metadata": {},
   "outputs": [
    {
     "data": {
      "text/plain": [
       "<sklearn.metrics._plot.confusion_matrix.ConfusionMatrixDisplay at 0x1d1a201a130>"
      ]
     },
     "execution_count": 66,
     "metadata": {},
     "output_type": "execute_result"
    },
    {
     "data": {
      "image/png": "[encoded data removed]",
      "text/plain": [
       "<Figure size 432x288 with 2 Axes>"
      ]
     },
     "metadata": {
      "needs_background": "light"
     },
     "output_type": "display_data"
    }
   ],
   "source": [
    "plot_confusion_matrix(tree_model, valid_dataX, valid_dataY, display_labels=['not hospidied', 'hospidied'])"
   ]
  },
  {
   "cell_type": "code",
   "execution_count": 68,
   "metadata": {},
   "outputs": [],
   "source": [
    "path = tree_model.cost_complexity_pruning_path(train_dataX, train_dataY)\n",
    "alphas = path.ccp_alphas\n",
    "alphas = alphas[:-1]  #use cost complexity pruning, but remove the max value(with just the root)\n",
    "tree_list = []\n",
    "for i in alphas:\n",
    "  tree_model = DecisionTreeClassifier(random_state = 0, ccp_alpha = i)\n",
    "  tree_model.fit(train_dataX, train_dataY)\n",
    "  tree_list.append(tree_model)"
   ]
  },
  {
   "cell_type": "code",
   "execution_count": 86,
   "metadata": {},
   "outputs": [
    {
     "name": "stdout",
     "output_type": "stream",
     "text": [
      "798\n"
     ]
    },
    {
     "data": {
      "image/png": "[encoded data removed]",
      "text/plain": [
       "<Figure size 432x288 with 1 Axes>"
      ]
     },
     "metadata": {
      "needs_background": "light"
     },
     "output_type": "display_data"
    }
   ],
   "source": [
    "train_scores = [i.score(train_dataX, train_dataY) for i in tree_list]\n",
    "test_scores = [i.score(valid_dataX, valid_dataY) for i in tree_list]\n",
    "max = -1\n",
    "idx = 0\n",
    "for i in test_scores:\n",
    "  if i > max:\n",
    "    max = i\n",
    "    idx = test_scores.index(i)\n",
    "print(idx)\n",
    "fig, ax = plt.subplots()\n",
    "ax.set_xlabel(\"alpha value\")\n",
    "ax.set_ylabel(\"score/accuracy\")\n",
    "ax.plot(alphas, train_scores, marker = 'o', label = 'train', drawstyle= 'steps-post')\n",
    "ax.plot(alphas, test_scores, marker = 'o', label = 'test', drawstyle= 'steps-post')\n",
    "ax.legend()\n",
    "plt.show()\n"
   ]
  },
  {
   "cell_type": "code",
   "execution_count": 87,
   "metadata": {},
   "outputs": [
    {
     "name": "stdout",
     "output_type": "stream",
     "text": [
      "0.00023528997194835347\n",
      "0.8865665584415584\n"
     ]
    }
   ],
   "source": [
    "print(alphas[idx])\n",
    "print(test_scores[idx])"
   ]
  },
  {
   "cell_type": "code",
   "execution_count": 91,
   "metadata": {},
   "outputs": [
    {
     "data": {
      "text/plain": [
       "<AxesSubplot:xlabel='tree'>"
      ]
     },
     "execution_count": 91,
     "metadata": {},
     "output_type": "execute_result"
    },
    {
     "data": {
      "image/png": "[encoded data removed]",
      "text/plain": [
       "<Figure size 432x288 with 1 Axes>"
      ]
     },
     "metadata": {
      "needs_background": "light"
     },
     "output_type": "display_data"
    }
   ],
   "source": [
    "tree = DecisionTreeClassifier(random_state = 69, ccp_alpha = 0.00023528997194835347)\n",
    "\n",
    "scores = cross_val_score(tree, train_dataX, train_dataY, cv = 5)\n",
    "df = pd.DataFrame(data={'tree':range(5), 'accuracy':scores})\n",
    "df.plot(x = 'tree', y = 'accuracy', marker='o', linestyle = '--')"
   ]
  },
  {
   "cell_type": "code",
   "execution_count": 93,
   "metadata": {},
   "outputs": [],
   "source": [
    "alpha_loop_values = []\n",
    "for i in alphas:\n",
    "  tree = DecisionTreeClassifier(random_state = 0,ccp_alpha = i)\n",
    "  scores = cross_val_score(tree, train_dataX, train_dataY, cv = 5)\n",
    "  alpha_loop_values.append([i, np.mean(scores), np.std(scores)])\n"
   ]
  },
  {
   "cell_type": "code",
   "execution_count": 111,
   "metadata": {},
   "outputs": [
    {
     "data": {
      "text/plain": [
       "<AxesSubplot:xlabel='alpha'>"
      ]
     },
     "execution_count": 111,
     "metadata": {},
     "output_type": "execute_result"
    },
    {
     "data": {
      "image/png": "[encoded data removed]",
      "text/plain": [
       "<Figure size 432x288 with 1 Axes>"
      ]
     },
     "metadata": {
      "needs_background": "light"
     },
     "output_type": "display_data"
    }
   ],
   "source": [
    "alpha_results= pd.DataFrame(alpha_loop_values, columns = ['alpha', 'mean_accuracy', 'std'])\n",
    "alpha_results.plot(x = 'alpha',\n",
    "                   y = 'mean_accuracy',\n",
    "                   yerr = 'std',\n",
    "                   marker = 'o',\n",
    "                   linestyle ='--')"
   ]
  },
  {
   "cell_type": "code",
   "execution_count": 119,
   "metadata": {},
   "outputs": [
    {
     "data": {
      "text/html": [
       "<div>\n",
       "<style scoped>\n",
       "    .dataframe tbody tr th:only-of-type {\n",
       "        vertical-align: middle;\n",
       "    }\n",
       "\n",
       "    .dataframe tbody tr th {\n",
       "        vertical-align: top;\n",
       "    }\n",
       "\n",
       "    .dataframe thead th {\n",
       "        text-align: right;\n",
       "    }\n",
       "</style>\n",
       "<table border=\"1\" class=\"dataframe\">\n",
       "  <thead>\n",
       "    <tr style=\"text-align: right;\">\n",
       "      <th></th>\n",
       "      <th>alpha</th>\n",
       "      <th>mean_accuracy</th>\n",
       "      <th>std</th>\n",
       "    </tr>\n",
       "  </thead>\n",
       "  <tbody>\n",
       "    <tr>\n",
       "      <th>803</th>\n",
       "      <td>0.000253</td>\n",
       "      <td>0.887993</td>\n",
       "      <td>0.004700</td>\n",
       "    </tr>\n",
       "    <tr>\n",
       "      <th>804</th>\n",
       "      <td>0.000257</td>\n",
       "      <td>0.887232</td>\n",
       "      <td>0.003983</td>\n",
       "    </tr>\n",
       "    <tr>\n",
       "      <th>805</th>\n",
       "      <td>0.000266</td>\n",
       "      <td>0.887739</td>\n",
       "      <td>0.003614</td>\n",
       "    </tr>\n",
       "    <tr>\n",
       "      <th>806</th>\n",
       "      <td>0.000282</td>\n",
       "      <td>0.889109</td>\n",
       "      <td>0.002505</td>\n",
       "    </tr>\n",
       "    <tr>\n",
       "      <th>807</th>\n",
       "      <td>0.000282</td>\n",
       "      <td>0.889109</td>\n",
       "      <td>0.002505</td>\n",
       "    </tr>\n",
       "    <tr>\n",
       "      <th>808</th>\n",
       "      <td>0.000286</td>\n",
       "      <td>0.889109</td>\n",
       "      <td>0.002721</td>\n",
       "    </tr>\n",
       "    <tr>\n",
       "      <th>809</th>\n",
       "      <td>0.000287</td>\n",
       "      <td>0.889109</td>\n",
       "      <td>0.002721</td>\n",
       "    </tr>\n",
       "    <tr>\n",
       "      <th>810</th>\n",
       "      <td>0.000290</td>\n",
       "      <td>0.889413</td>\n",
       "      <td>0.002436</td>\n",
       "    </tr>\n",
       "    <tr>\n",
       "      <th>811</th>\n",
       "      <td>0.000291</td>\n",
       "      <td>0.889413</td>\n",
       "      <td>0.002436</td>\n",
       "    </tr>\n",
       "    <tr>\n",
       "      <th>812</th>\n",
       "      <td>0.000295</td>\n",
       "      <td>0.889413</td>\n",
       "      <td>0.002436</td>\n",
       "    </tr>\n",
       "    <tr>\n",
       "      <th>813</th>\n",
       "      <td>0.000295</td>\n",
       "      <td>0.889413</td>\n",
       "      <td>0.002436</td>\n",
       "    </tr>\n",
       "    <tr>\n",
       "      <th>814</th>\n",
       "      <td>0.000301</td>\n",
       "      <td>0.889413</td>\n",
       "      <td>0.002436</td>\n",
       "    </tr>\n",
       "    <tr>\n",
       "      <th>815</th>\n",
       "      <td>0.000332</td>\n",
       "      <td>0.888652</td>\n",
       "      <td>0.002529</td>\n",
       "    </tr>\n",
       "    <tr>\n",
       "      <th>816</th>\n",
       "      <td>0.000334</td>\n",
       "      <td>0.888652</td>\n",
       "      <td>0.002529</td>\n",
       "    </tr>\n",
       "  </tbody>\n",
       "</table>\n",
       "</div>"
      ],
      "text/plain": [
       "        alpha  mean_accuracy       std\n",
       "803  0.000253       0.887993  0.004700\n",
       "804  0.000257       0.887232  0.003983\n",
       "805  0.000266       0.887739  0.003614\n",
       "806  0.000282       0.889109  0.002505\n",
       "807  0.000282       0.889109  0.002505\n",
       "808  0.000286       0.889109  0.002721\n",
       "809  0.000287       0.889109  0.002721\n",
       "810  0.000290       0.889413  0.002436\n",
       "811  0.000291       0.889413  0.002436\n",
       "812  0.000295       0.889413  0.002436\n",
       "813  0.000295       0.889413  0.002436\n",
       "814  0.000301       0.889413  0.002436\n",
       "815  0.000332       0.888652  0.002529\n",
       "816  0.000334       0.888652  0.002529"
      ]
     },
     "execution_count": 119,
     "metadata": {},
     "output_type": "execute_result"
    }
   ],
   "source": [
    "alpha_results[(alpha_results['alpha']>0.00025) & (alpha_results['alpha'] < 0.00035)]"
   ]
  },
  {
   "cell_type": "code",
   "execution_count": 395,
   "metadata": {},
   "outputs": [],
   "source": [
    "ideal_alpha =  0.000290 "
   ]
  },
  {
   "cell_type": "code",
   "execution_count": 402,
   "metadata": {},
   "outputs": [],
   "source": [
    "final_pruned_tree = DecisionTreeClassifier(random_state = 42, ccp_alpha = ideal_alpha)\n",
    "final_pruned_tree = final_pruned_tree.fit(x_train, y_train)"
   ]
  },
  {
   "cell_type": "code",
   "execution_count": 403,
   "metadata": {},
   "outputs": [
    {
     "data": {
      "text/plain": [
       "<sklearn.metrics._plot.confusion_matrix.ConfusionMatrixDisplay at 0x1d1a1b1e6d0>"
      ]
     },
     "execution_count": 403,
     "metadata": {},
     "output_type": "execute_result"
    },
    {
     "data": {
      "image/png": "[encoded data removed]",
      "text/plain": [
       "<Figure size 432x288 with 2 Axes>"
      ]
     },
     "metadata": {
      "needs_background": "light"
     },
     "output_type": "display_data"
    }
   ],
   "source": [
    "plot_confusion_matrix(final_pruned_tree, valid_dataX, valid_dataY, display_labels=['no hospidied', 'hospidied'])"
   ]
  },
  {
   "cell_type": "code",
   "execution_count": 404,
   "metadata": {},
   "outputs": [
    {
     "name": "stdout",
     "output_type": "stream",
     "text": [
      "0.5200341005967604\n"
     ]
    }
   ],
   "source": [
    "validation_pred = final_pruned_tree.predict(valid_dataX)\n",
    "print(f1_score(valid_dataY, validation_pred))"
   ]
  },
  {
   "cell_type": "markdown",
   "metadata": {
    "id": "sGpSxmOBDYAG"
   },
   "source": [
    "x_test = pd.read_csv('https://raw.githubusercontent.com/aubreyyy24/HW2_data/main/x_test.csv')\n",
    "\n",
    "y_pred = "
   ]
  },
  {
   "cell_type": "code",
   "execution_count": 405,
   "metadata": {},
   "outputs": [],
   "source": [
    "x_test = pd.read_csv('https://raw.githubusercontent.com/aubreyyy24/HW2_data/main/x_test.csv')\n",
    "x_test1 = x_test.drop(['subject_id', 'indextime'], axis = 1)"
   ]
  },
  {
   "cell_type": "code",
   "execution_count": 406,
   "metadata": {
    "id": "k3zecXTLFJci"
   },
   "outputs": [],
   "source": [
    "#final prediction with your decision tree(optional)\n",
    "def treePredictions(df, tree): \n",
    "  predictions = tree.predict(df)\n",
    "  return predictions\n",
    "\n",
    "y_pred = treePredictions(x_test1,final_pruned_tree)\n"
   ]
  },
  {
   "cell_type": "markdown",
   "metadata": {
    "id": "zocBlOKdgaO8"
   },
   "source": [
    "To export your predcition as a CSV file and hand in the CSV on elearn"
   ]
  },
  {
   "cell_type": "code",
   "execution_count": 407,
   "metadata": {
    "id": "8YOjsyVmDA1s"
   },
   "outputs": [],
   "source": [
    "output_path = STUDENT_ID + '_prediction.csv'\n",
    "\n",
    "tree_test_pred = pd.DataFrame( {'subject_id': x_test.subject_id,\n",
    "                  'prediction': y_pred } )\n",
    "tree_test_pred.to_csv(output_path, index = False)"
   ]
  },
  {
   "cell_type": "markdown",
   "metadata": {
    "id": "aMh7DF47XV4k"
   },
   "source": [
    "## Visualizing the Decision Tree *(10% bonus)*\n",
    "\n",
    "**Note:** Save the visualization result image as **[STUDENT_ID]_visualization.png**\n",
    "\n",
    "*   Your visualization image of the decision tree can contain **five** layers at most.\n"
   ]
  },
  {
   "cell_type": "code",
   "execution_count": 408,
   "metadata": {
    "id": "2tr0cSuooJpc"
   },
   "outputs": [
    {
     "data": {
      "image/png": "[encoded data removed]",
      "text/plain": [
       "<Figure size 1080x540 with 1 Axes>"
      ]
     },
     "metadata": {
      "needs_background": "light"
     },
     "output_type": "display_data"
    }
   ],
   "source": [
    "plt.figure(figsize= (15, 7.5))\n",
    "plot_tree(final_pruned_tree,\n",
    "          filled = True,\n",
    "          rounded = True,\n",
    "          class_names=[\"no hospidied\", 'hospidied'],\n",
    "          max_depth=5)\n",
    "plt.savefig('final_pruned_tree.png',format='png',bbox_inches = \"tight\")"
   ]
  },
  {
   "cell_type": "markdown",
   "metadata": {
    "id": "nU6YmzzrsaNl"
   },
   "source": [
    "# Report *(10%)*\n",
    "\n",
    "Report should be submitted as a pdf file! (**[STUDENT_ID]_report.pdf**)\n",
    "\n",
    "*   List the top 3 splitting features and their thresholds of your model\n",
    "*   Briefly describe how you build the decision tree\n",
    "*   Describe if you apply any improvement on your decision tree model\n",
    "*   If you preprocess the MIMIC data in the second part (selecting features...), describe the work and reasons\n",
    "*   Summarize your work\n",
    "*   Do not exceed 2 pages!\n",
    "\n",
    "\n",
    "\n",
    "\n"
   ]
  },
  {
   "cell_type": "markdown",
   "metadata": {
    "id": "JkqzcPNazBKd"
   },
   "source": [
    "# Save the Code File\n",
    "Please save your code and submit it as an ipynb file! (**[STUDENT_ID]_hw2.ipynb**)"
   ]
  }
 ],
 "metadata": {
  "colab": {
   "collapsed_sections": [
    "yEtwmT5QNVLn"
   ],
   "name": "HW2_Decision_Tree.ipynb",
   "provenance": []
  },
  "kernelspec": {
   "display_name": "Python 3",
   "language": "python",
   "name": "python3"
  },
  "language_info": {
   "codemirror_mode": {
    "name": "ipython",
    "version": 3
   },
   "file_extension": ".py",
   "mimetype": "text/x-python",
   "name": "python",
   "nbconvert_exporter": "python",
   "pygments_lexer": "ipython3",
   "version": "3.8.5"
  }
 },
 "nbformat": 4,
 "nbformat_minor": 1
}

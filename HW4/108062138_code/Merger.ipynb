{
  "nbformat": 4,
  "nbformat_minor": 0,
  "metadata": {
    "colab": {
      "name": "Merger",
      "provenance": []
    },
    "kernelspec": {
      "name": "python3",
      "display_name": "Python 3"
    },
    "language_info": {
      "name": "python"
    }
  },
  "cells": [
    {
      "cell_type": "code",
      "execution_count": 23,
      "metadata": {
        "colab": {
          "base_uri": "https://localhost:8080/"
        },
        "id": "-Zfnh6txYcT_",
        "outputId": "5d8fba6b-fd71-438b-efb8-02c6499d3989"
      },
      "outputs": [
        {
          "output_type": "stream",
          "name": "stdout",
          "text": [
            "2.7.0\n",
            "Drive already mounted at /content/drive; to attempt to forcibly remount, call drive.mount(\"/content/drive\", force_remount=True).\n"
          ]
        }
      ],
      "source": [
        "#(train_images, train_labels), (test_images, test_labels) = keras.datasets.mnist.load_data()\n",
        "import numpy as np\n",
        "import pandas as pd\n",
        "# TensorFlow and tf.keras\n",
        "import tensorflow as tf\n",
        "from tensorflow import keras\n",
        "from tensorflow.keras.layers import Conv2D, MaxPooling2D, Dropout, Flatten, Dense\n",
        "\n",
        "# Commonly used modules\n",
        "import numpy as np\n",
        "import os\n",
        "import sys\n",
        "\n",
        "# Images, plots, display, and visualization\n",
        "import matplotlib.pyplot as plt\n",
        "import pandas as pd\n",
        "import seaborn as sns\n",
        "import cv2\n",
        "import IPython\n",
        "from six.moves import urllib\n",
        "\n",
        "print(tf.__version__)\n",
        "from PIL import Image\n",
        "from google.colab import drive\n",
        "drive.mount('/content/drive')"
      ]
    },
    {
      "cell_type": "code",
      "source": [
        "targets = ['Atelectasis',\t'Cardiomegaly',\t'Edema',\t'Lung Opacity',\t'No Finding',\t'Pleural Effusion',\t'Support Devices']\n",
        "ID = '108062138_prediction'\n",
        "res = pd.DataFrame()\n",
        "for target in targets:\n",
        "  fileName = target + ID +'.csv'\n",
        "  file = pd.read_csv('/content/drive/MyDrive/MLHW4DATA/'+fileName, index_col=0)\n",
        "  print(file[target])\n",
        "  res = pd.concat([res, file[target]], axis=1)\n",
        "print(res.head)"
      ],
      "metadata": {
        "id": "Cp8APmdeY-dZ",
        "colab": {
          "base_uri": "https://localhost:8080/"
        },
        "outputId": "045ae7ba-3c76-4649-80ea-1a1b83d19fd8"
      },
      "execution_count": 24,
      "outputs": [
        {
          "output_type": "stream",
          "name": "stdout",
          "text": [
            "0       0.0\n",
            "1       0.0\n",
            "2       0.0\n",
            "3       0.0\n",
            "4       1.0\n",
            "       ... \n",
            "1495    0.0\n",
            "1496    0.0\n",
            "1497    0.0\n",
            "1498    0.0\n",
            "1499    1.0\n",
            "Name: Atelectasis, Length: 1500, dtype: float64\n",
            "0       0.0\n",
            "1       0.0\n",
            "2       0.0\n",
            "3       0.0\n",
            "4       1.0\n",
            "       ... \n",
            "1495    1.0\n",
            "1496    0.0\n",
            "1497    1.0\n",
            "1498    0.0\n",
            "1499    1.0\n",
            "Name: Cardiomegaly, Length: 1500, dtype: float64\n",
            "0       1.0\n",
            "1       0.0\n",
            "2       0.0\n",
            "3       0.0\n",
            "4       1.0\n",
            "       ... \n",
            "1495    1.0\n",
            "1496    0.0\n",
            "1497    0.0\n",
            "1498    0.0\n",
            "1499    1.0\n",
            "Name: Edema, Length: 1500, dtype: float64\n",
            "0       0.0\n",
            "1       0.0\n",
            "2       0.0\n",
            "3       0.0\n",
            "4       0.0\n",
            "       ... \n",
            "1495    0.0\n",
            "1496    0.0\n",
            "1497    0.0\n",
            "1498    0.0\n",
            "1499    1.0\n",
            "Name: Lung Opacity, Length: 1500, dtype: float64\n",
            "0       1.0\n",
            "1       1.0\n",
            "2       1.0\n",
            "3       1.0\n",
            "4       1.0\n",
            "       ... \n",
            "1495    0.0\n",
            "1496    1.0\n",
            "1497    1.0\n",
            "1498    1.0\n",
            "1499    0.0\n",
            "Name: No Finding, Length: 1500, dtype: float64\n",
            "0       0.0\n",
            "1       0.0\n",
            "2       0.0\n",
            "3       0.0\n",
            "4       0.0\n",
            "       ... \n",
            "1495    0.0\n",
            "1496    0.0\n",
            "1497    0.0\n",
            "1498    0.0\n",
            "1499    0.0\n",
            "Name: Pleural Effusion, Length: 1500, dtype: float64\n",
            "0       0.0\n",
            "1       0.0\n",
            "2       0.0\n",
            "3       0.0\n",
            "4       0.0\n",
            "       ... \n",
            "1495    0.0\n",
            "1496    0.0\n",
            "1497    1.0\n",
            "1498    0.0\n",
            "1499    0.0\n",
            "Name: Support Devices, Length: 1500, dtype: float64\n",
            "<bound method NDFrame.head of       Atelectasis  Cardiomegaly  ...  Pleural Effusion  Support Devices\n",
            "0             0.0           0.0  ...               0.0              0.0\n",
            "1             0.0           0.0  ...               0.0              0.0\n",
            "2             0.0           0.0  ...               0.0              0.0\n",
            "3             0.0           0.0  ...               0.0              0.0\n",
            "4             1.0           1.0  ...               0.0              0.0\n",
            "...           ...           ...  ...               ...              ...\n",
            "1495          0.0           1.0  ...               0.0              0.0\n",
            "1496          0.0           0.0  ...               0.0              0.0\n",
            "1497          0.0           1.0  ...               0.0              1.0\n",
            "1498          0.0           0.0  ...               0.0              0.0\n",
            "1499          1.0           1.0  ...               0.0              0.0\n",
            "\n",
            "[1500 rows x 7 columns]>\n"
          ]
        }
      ]
    },
    {
      "cell_type": "code",
      "source": [
        "if not os.path.exists(\"./output/\") : os.mkdir(\"./output/\")\n",
        "ID = '108061238'\n",
        "resName = ID + '_advanced_prediction.csv'\n",
        "res.to_csv('./output/' + resName ,encoding='utf-8',header = True)"
      ],
      "metadata": {
        "id": "6A-uDeLDZumq"
      },
      "execution_count": 25,
      "outputs": []
    },
    {
      "cell_type": "code",
      "source": [
        ""
      ],
      "metadata": {
        "id": "U3WnFnCXbLSp"
      },
      "execution_count": null,
      "outputs": []
    }
  ]
}